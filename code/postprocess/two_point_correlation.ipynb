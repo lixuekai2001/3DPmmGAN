{
 "cells": [
  {
   "cell_type": "markdown",
   "metadata": {},
   "source": [
    "# Two Point Correlation Function"
   ]
  },
  {
   "cell_type": "markdown",
   "metadata": {},
   "source": [
    "The two-point correlation is widely used as a 'finger print' of porous materials.  For instance, for doing [stochastic reconstructions of porous materials](https://doi.org/10.1006/jcis.2001.8064), the are used in the objective function to minimize the difference between the generated and actual images."
   ]
  },
  {
   "cell_type": "markdown",
   "metadata": {},
   "source": [
    "PoreSpy contains two functions for calculating the two-point correlation.  ``two_point_correlation_bf`` uses a brute-force (hence the ``bf``) which overlays a grid on the image, then analyzes the underlying image at the grid points.  ``two_point_correlation_fft`` uses a fast-Fourier transform to perform an autocorrelation of the image with itself, so it's much faster.  The brute-force version is potentially more accurate because the Fourier transform approach introduces some numerical error; however, the slowness of the brute-force method requires applying a limited number of grid points which reduces its accuracy.  As shown below the Fourier transform approach generally produces more acceptable results."
   ]
  },
  {
   "cell_type": "markdown",
   "metadata": {},
   "source": [
    "## Import Necessary packages"
   ]
  },
  {
   "cell_type": "code",
   "execution_count": 2,
   "metadata": {},
   "outputs": [],
   "source": [
    "import numpy as np\n",
    "import porespy as ps\n",
    "import tifffile\n",
    "import glob\n",
    "ps.visualization.set_mpl_style()\n",
    "np.random.seed(10)"
   ]
  },
  {
   "cell_type": "markdown",
   "metadata": {},
   "source": [
    "## Compute"
   ]
  },
  {
   "cell_type": "code",
   "execution_count": 11,
   "metadata": {},
   "outputs": [
    {
     "name": "stdout",
     "output_type": "stream",
     "text": [
      "1\n",
      "2\n",
      "3\n",
      "4\n",
      "5\n",
      "6\n",
      "7\n",
      "8\n",
      "9\n",
      "10\n",
      "11\n",
      "12\n",
      "13\n",
      "14\n",
      "15\n",
      "16\n",
      "17\n",
      "18\n",
      "19\n",
      "20\n",
      "21\n",
      "22\n",
      "23\n",
      "24\n",
      "25\n",
      "26\n",
      "27\n",
      "28\n",
      "29\n",
      "30\n",
      "31\n",
      "32\n",
      "33\n",
      "34\n",
      "35\n",
      "36\n",
      "37\n",
      "38\n",
      "39\n",
      "40\n",
      "41\n",
      "42\n",
      "43\n",
      "44\n",
      "45\n",
      "46\n",
      "47\n",
      "48\n",
      "49\n",
      "50\n",
      "51\n",
      "52\n",
      "53\n",
      "54\n",
      "55\n",
      "56\n",
      "57\n",
      "58\n",
      "59\n",
      "60\n",
      "61\n",
      "62\n",
      "63\n",
      "64\n"
     ]
    }
   ],
   "source": [
    "resolution = 96\n",
    "data11 = np.empty((resolution*3,resolution//2-1))\n",
    "img_list = glob.glob(r'/*.tif')\n",
    "A = np.zeros((len(img_list),resolution//2-1))\n",
    "n_ = 0\n",
    "for file in img_list:\n",
    "    img = tifffile.imread(file)\n",
    "    for i in range(resolution):\n",
    "        data_x = ps.metrics.two_point_correlation_fft(im=img[i])\n",
    "        data_y = ps.metrics.two_point_correlation_fft(im=img[:,i])\n",
    "        data_z = ps.metrics.two_point_correlation_fft(im=img[:,:,i])\n",
    "        data11[i] = data_x.probability\n",
    "        data11[resolution+i] = data_y.probability\n",
    "        data11[resolution*2+i] = data_z.probability\n",
    "    A[n_]=np.mean(data11,axis=0)\n",
    "    n_ += 1\n",
    "    print(n_)\n",
    "np.savetxt(r'/Covariance_Beadpack_96_real.csv', A, fmt ='%1.6f', delimiter=',')"
   ]
  },
  {
   "cell_type": "code",
   "execution_count": null,
   "metadata": {},
   "outputs": [],
   "source": []
  }
 ],
 "metadata": {
  "kernelspec": {
   "display_name": "Python 3",
   "language": "python",
   "name": "python3"
  },
  "language_info": {
   "codemirror_mode": {
    "name": "ipython",
    "version": 3
   },
   "file_extension": ".py",
   "mimetype": "text/x-python",
   "name": "python",
   "nbconvert_exporter": "python",
   "pygments_lexer": "ipython3",
   "version": "3.7.7"
  }
 },
 "nbformat": 4,
 "nbformat_minor": 2
}
